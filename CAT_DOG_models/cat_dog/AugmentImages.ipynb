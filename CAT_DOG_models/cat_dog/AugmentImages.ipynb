{
 "cells": [
  {
   "cell_type": "code",
   "execution_count": 13,
   "id": "04f775be",
   "metadata": {},
   "outputs": [],
   "source": [
    "import  skimage\n",
    "import os\n",
    "import numpy as np\n",
    "import matplotlib.pyplot as plt\n",
    "import h5py\n",
    "\n",
    "from skimage import io\n",
    "from os import listdir\n",
    "from skimage.color import rgb2gray\n",
    "from skimage.transform import resize\n",
    "from skimage import img_as_ubyte"
   ]
  },
  {
   "cell_type": "code",
   "execution_count": 10,
   "id": "9ce72d58",
   "metadata": {},
   "outputs": [
    {
     "name": "stdout",
     "output_type": "stream",
     "text": [
      "number of training images  10000\n"
     ]
    }
   ],
   "source": [
    "class_label_file = 'train_class_labels.txt'\n",
    "f=open(class_label_file)\n",
    "lines=f.read().splitlines()\n",
    "train_labels={}\n",
    "f.close()\n",
    "for i in range(0,len(lines)):\n",
    "    tmp=lines[i].split(\"\\t\")\n",
    "    filename=tmp[0]\n",
    "    Class=tmp[1]\n",
    "    train_labels[filename]=Class\n",
    "print('number of training images ',len(train_labels.keys()))\n",
    "imagedir='train/'\n",
    "files=listdir('train/')"
   ]
  },
  {
   "cell_type": "code",
   "execution_count": 15,
   "id": "e6fe0e24",
   "metadata": {},
   "outputs": [
    {
     "name": "stdout",
     "output_type": "stream",
     "text": [
      "done processing 0 images\n",
      "done processing 2000 images\n",
      "done processing 4000 images\n",
      "done processing 6000 images\n",
      "done processing 8000 images\n"
     ]
    }
   ],
   "source": [
    "new_train_labels={}\n",
    "NUM_ROTATE = 2 # indicates how many images to be generated \n",
    "for i in range(0,len(files)):\n",
    "    if(i%2000 == 0):\n",
    "        print('done processing ' + str(i) + ' images')\n",
    "    I = io.imread(imagedir+files[i])\n",
    "    new_train_labels[files[i]] = train_labels[files[i]]\n",
    "    io.imsave(augmentation_folder+files[i],I)\n",
    "    for j in range(0,NUM_ROTATE):\n",
    "        I1 = skimage.transform.rotate(I,angle=np.random.uniform(-45, 45))\n",
    "        #print(I1.shape)\n",
    "        newFile = \"rotated_\"+str(j)+\"_\"+files[i]\n",
    "        io.imsave(augmentation_folder+\"rotated_\"+str(j)+\"_\"+files[i],img_as_ubyte(I1))\n",
    "        new_train_labels[newFile] = train_labels[files[i]]\n",
    "\n",
    "\n",
    "\n",
    "new_train_label_file = 'augmented/train_class_labels.txt'\n",
    "f=open(new_train_label_file,\"w\")\n",
    "for keys in new_train_labels.keys():\n",
    "    f.write(keys+\"\\t\" + new_train_labels[keys]+\"\\n\")\n",
    "f.close()"
   ]
  }
 ],
 "metadata": {
  "kernelspec": {
   "display_name": "Python 3 (ipykernel)",
   "language": "python",
   "name": "python3"
  },
  "language_info": {
   "codemirror_mode": {
    "name": "ipython",
    "version": 3
   },
   "file_extension": ".py",
   "mimetype": "text/x-python",
   "name": "python",
   "nbconvert_exporter": "python",
   "pygments_lexer": "ipython3",
   "version": "3.9.12"
  }
 },
 "nbformat": 4,
 "nbformat_minor": 5
}
